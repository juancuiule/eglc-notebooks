{
 "cells": [
  {
   "cell_type": "code",
   "execution_count": 1,
   "id": "506980af",
   "metadata": {},
   "outputs": [],
   "source": [
    "import pandas as pd\n",
    "import numpy as np\n",
    "from scipy import stats"
   ]
  },
  {
   "cell_type": "code",
   "execution_count": 2,
   "id": "0e18edb6",
   "metadata": {},
   "outputs": [],
   "source": [
    "import matplotlib.pyplot as plt\n",
    "from matplotlib.colors import LinearSegmentedColormap"
   ]
  },
  {
   "cell_type": "code",
   "execution_count": 3,
   "id": "9eded95b",
   "metadata": {},
   "outputs": [
    {
     "data": {
      "text/html": [
       "<div>\n",
       "<style scoped>\n",
       "    .dataframe tbody tr th:only-of-type {\n",
       "        vertical-align: middle;\n",
       "    }\n",
       "\n",
       "    .dataframe tbody tr th {\n",
       "        vertical-align: top;\n",
       "    }\n",
       "\n",
       "    .dataframe thead th {\n",
       "        text-align: right;\n",
       "    }\n",
       "</style>\n",
       "<table border=\"1\" class=\"dataframe\">\n",
       "  <thead>\n",
       "    <tr style=\"text-align: right;\">\n",
       "      <th></th>\n",
       "      <th>acceptability_1</th>\n",
       "      <th>confidence_1</th>\n",
       "      <th>distress_1</th>\n",
       "      <th>acceptability_2</th>\n",
       "      <th>confidence_2</th>\n",
       "      <th>distress_2</th>\n",
       "      <th>acceptability_3</th>\n",
       "      <th>confidence_3</th>\n",
       "      <th>distress_3</th>\n",
       "      <th>acceptability_4</th>\n",
       "      <th>...</th>\n",
       "      <th>age</th>\n",
       "      <th>gender</th>\n",
       "      <th>country</th>\n",
       "      <th>covid</th>\n",
       "      <th>openness</th>\n",
       "      <th>conscientiousness</th>\n",
       "      <th>extraversion</th>\n",
       "      <th>agreeableness</th>\n",
       "      <th>neuroticism</th>\n",
       "      <th>timestamp</th>\n",
       "    </tr>\n",
       "  </thead>\n",
       "  <tbody>\n",
       "    <tr>\n",
       "      <th>0</th>\n",
       "      <td>25</td>\n",
       "      <td>31</td>\n",
       "      <td>100</td>\n",
       "      <td>100</td>\n",
       "      <td>89</td>\n",
       "      <td>100</td>\n",
       "      <td>21</td>\n",
       "      <td>80</td>\n",
       "      <td>100</td>\n",
       "      <td>100</td>\n",
       "      <td>...</td>\n",
       "      <td>44</td>\n",
       "      <td>1</td>\n",
       "      <td>11</td>\n",
       "      <td>-999</td>\n",
       "      <td>NaN</td>\n",
       "      <td>NaN</td>\n",
       "      <td>NaN</td>\n",
       "      <td>NaN</td>\n",
       "      <td>NaN</td>\n",
       "      <td>04/05/2020 14:46</td>\n",
       "    </tr>\n",
       "    <tr>\n",
       "      <th>1</th>\n",
       "      <td>70</td>\n",
       "      <td>77</td>\n",
       "      <td>100</td>\n",
       "      <td>85</td>\n",
       "      <td>74</td>\n",
       "      <td>61</td>\n",
       "      <td>85</td>\n",
       "      <td>81</td>\n",
       "      <td>65</td>\n",
       "      <td>76</td>\n",
       "      <td>...</td>\n",
       "      <td>21</td>\n",
       "      <td>2</td>\n",
       "      <td>11</td>\n",
       "      <td>-999</td>\n",
       "      <td>45.0</td>\n",
       "      <td>27.0</td>\n",
       "      <td>21.0</td>\n",
       "      <td>32.0</td>\n",
       "      <td>29.0</td>\n",
       "      <td>06/05/2020 16:22</td>\n",
       "    </tr>\n",
       "    <tr>\n",
       "      <th>2</th>\n",
       "      <td>33</td>\n",
       "      <td>67</td>\n",
       "      <td>100</td>\n",
       "      <td>84</td>\n",
       "      <td>59</td>\n",
       "      <td>34</td>\n",
       "      <td>91</td>\n",
       "      <td>73</td>\n",
       "      <td>100</td>\n",
       "      <td>71</td>\n",
       "      <td>...</td>\n",
       "      <td>29</td>\n",
       "      <td>1</td>\n",
       "      <td>11</td>\n",
       "      <td>-999</td>\n",
       "      <td>38.0</td>\n",
       "      <td>36.0</td>\n",
       "      <td>15.0</td>\n",
       "      <td>35.0</td>\n",
       "      <td>20.0</td>\n",
       "      <td>06/05/2020 21:13</td>\n",
       "    </tr>\n",
       "    <tr>\n",
       "      <th>3</th>\n",
       "      <td>0</td>\n",
       "      <td>100</td>\n",
       "      <td>75</td>\n",
       "      <td>100</td>\n",
       "      <td>68</td>\n",
       "      <td>100</td>\n",
       "      <td>75</td>\n",
       "      <td>66</td>\n",
       "      <td>100</td>\n",
       "      <td>67</td>\n",
       "      <td>...</td>\n",
       "      <td>28</td>\n",
       "      <td>1</td>\n",
       "      <td>11</td>\n",
       "      <td>-999</td>\n",
       "      <td>37.0</td>\n",
       "      <td>31.0</td>\n",
       "      <td>36.0</td>\n",
       "      <td>37.0</td>\n",
       "      <td>26.0</td>\n",
       "      <td>06/05/2020 21:14</td>\n",
       "    </tr>\n",
       "    <tr>\n",
       "      <th>4</th>\n",
       "      <td>0</td>\n",
       "      <td>100</td>\n",
       "      <td>0</td>\n",
       "      <td>100</td>\n",
       "      <td>100</td>\n",
       "      <td>0</td>\n",
       "      <td>0</td>\n",
       "      <td>100</td>\n",
       "      <td>0</td>\n",
       "      <td>56</td>\n",
       "      <td>...</td>\n",
       "      <td>29</td>\n",
       "      <td>1</td>\n",
       "      <td>11</td>\n",
       "      <td>-999</td>\n",
       "      <td>49.0</td>\n",
       "      <td>32.0</td>\n",
       "      <td>25.0</td>\n",
       "      <td>31.0</td>\n",
       "      <td>31.0</td>\n",
       "      <td>06/05/2020 21:15</td>\n",
       "    </tr>\n",
       "  </tbody>\n",
       "</table>\n",
       "<p>5 rows × 43 columns</p>\n",
       "</div>"
      ],
      "text/plain": [
       "   acceptability_1  confidence_1  distress_1  acceptability_2  confidence_2  \\\n",
       "0               25            31         100              100            89   \n",
       "1               70            77         100               85            74   \n",
       "2               33            67         100               84            59   \n",
       "3                0           100          75              100            68   \n",
       "4                0           100           0              100           100   \n",
       "\n",
       "   distress_2  acceptability_3  confidence_3  distress_3  acceptability_4  \\\n",
       "0         100               21            80         100              100   \n",
       "1          61               85            81          65               76   \n",
       "2          34               91            73         100               71   \n",
       "3         100               75            66         100               67   \n",
       "4           0                0           100           0               56   \n",
       "\n",
       "   ...  age  gender  country  covid  openness  conscientiousness  \\\n",
       "0  ...   44       1       11   -999       NaN                NaN   \n",
       "1  ...   21       2       11   -999      45.0               27.0   \n",
       "2  ...   29       1       11   -999      38.0               36.0   \n",
       "3  ...   28       1       11   -999      37.0               31.0   \n",
       "4  ...   29       1       11   -999      49.0               32.0   \n",
       "\n",
       "   extraversion  agreeableness  neuroticism         timestamp  \n",
       "0           NaN            NaN          NaN  04/05/2020 14:46  \n",
       "1          21.0           32.0         29.0  06/05/2020 16:22  \n",
       "2          15.0           35.0         20.0  06/05/2020 21:13  \n",
       "3          36.0           37.0         26.0  06/05/2020 21:14  \n",
       "4          25.0           31.0         31.0  06/05/2020 21:15  \n",
       "\n",
       "[5 rows x 43 columns]"
      ]
     },
     "execution_count": 3,
     "metadata": {},
     "output_type": "execute_result"
    }
   ],
   "source": [
    "csv = pd.read_csv('./data.csv', delimiter=';')\n",
    "csv.head()"
   ]
  },
  {
   "cell_type": "code",
   "execution_count": 4,
   "id": "3106c71b",
   "metadata": {
    "scrolled": true
   },
   "outputs": [
    {
     "data": {
      "text/plain": [
       "Index(['acceptability_1', 'confidence_1', 'distress_1', 'acceptability_2',\n",
       "       'confidence_2', 'distress_2', 'acceptability_3', 'confidence_3',\n",
       "       'distress_3', 'acceptability_4', 'confidence_4', 'distress_4',\n",
       "       'acceptability_5', 'confidence_5', 'distress_5', 'acceptability_6',\n",
       "       'confidence_6', 'distress_6', 'acceptability_7', 'confidence_7',\n",
       "       'distress_7', 'scenarios_order', 'condition', '1_oxford_1',\n",
       "       '1_oxford_2', '1_oxford_3', '1_oxford_4', '1_oxford_5', '1_oxford_6',\n",
       "       '1_oxford_7', '1_oxford_8', '1_oxford_9', 'oxford_order', 'age',\n",
       "       'gender', 'country', 'covid', 'openness', 'conscientiousness',\n",
       "       'extraversion', 'agreeableness', 'neuroticism', 'timestamp'],\n",
       "      dtype='object')"
      ]
     },
     "execution_count": 4,
     "metadata": {},
     "output_type": "execute_result"
    }
   ],
   "source": [
    "csv.columns"
   ]
  },
  {
   "cell_type": "code",
   "execution_count": 5,
   "id": "11cc846c",
   "metadata": {},
   "outputs": [],
   "source": [
    "bar_bins = np.arange(0, 100 + 5, 5)\n",
    "dfs = []\n",
    "for i in range(0, 5):\n",
    "    col = f'acceptability_{i + 1}'\n",
    "    bars = csv.groupby(pd.cut(csv[col], 20)).count()[col]\n",
    "    df = pd.DataFrame({\n",
    "        'x': bar_bins[:-1],\n",
    "        'y': bars.values\n",
    "    })\n",
    "    dfs.append(df)\n",
    "    df.to_csv(f'./out/{col}.csv')"
   ]
  },
  {
   "cell_type": "code",
   "execution_count": 6,
   "id": "7e020c11",
   "metadata": {},
   "outputs": [
    {
     "data": {
      "text/plain": [
       "<AxesSubplot:>"
      ]
     },
     "execution_count": 6,
     "metadata": {},
     "output_type": "execute_result"
    },
    {
     "data": {
      "image/png": "[encoded data removed]",
      "text/plain": [
       "<Figure size 432x288 with 1 Axes>"
      ]
     },
     "metadata": {
      "needs_background": "light"
     },
     "output_type": "display_data"
    }
   ],
   "source": [
    "csv['acceptability_1'].hist(bins=20)"
   ]
  },
  {
   "cell_type": "code",
   "execution_count": 7,
   "id": "3290531a",
   "metadata": {},
   "outputs": [
    {
     "data": {
      "text/plain": [
       "<AxesSubplot:>"
      ]
     },
     "execution_count": 7,
     "metadata": {},
     "output_type": "execute_result"
    },
    {
     "data": {
      "image/png": "[encoded data removed]",
      "text/plain": [
       "<Figure size 432x288 with 1 Axes>"
      ]
     },
     "metadata": {
      "needs_background": "light"
     },
     "output_type": "display_data"
    }
   ],
   "source": [
    "csv['acceptability_2'].hist(bins=20)"
   ]
  },
  {
   "cell_type": "code",
   "execution_count": 8,
   "id": "089e9484",
   "metadata": {},
   "outputs": [
    {
     "data": {
      "text/plain": [
       "<AxesSubplot:>"
      ]
     },
     "execution_count": 8,
     "metadata": {},
     "output_type": "execute_result"
    },
    {
     "data": {
      "image/png": "[encoded data removed]",
      "text/plain": [
       "<Figure size 432x288 with 1 Axes>"
      ]
     },
     "metadata": {
      "needs_background": "light"
     },
     "output_type": "display_data"
    }
   ],
   "source": [
    "csv['acceptability_3'].hist(bins=20)"
   ]
  },
  {
   "cell_type": "code",
   "execution_count": 9,
   "id": "0014842b",
   "metadata": {},
   "outputs": [
    {
     "data": {
      "text/plain": [
       "<AxesSubplot:>"
      ]
     },
     "execution_count": 9,
     "metadata": {},
     "output_type": "execute_result"
    },
    {
     "data": {
      "image/png": "[encoded data removed]",
      "text/plain": [
       "<Figure size 432x288 with 1 Axes>"
      ]
     },
     "metadata": {
      "needs_background": "light"
     },
     "output_type": "display_data"
    }
   ],
   "source": [
    "csv['acceptability_4'].hist(bins=20)"
   ]
  },
  {
   "cell_type": "code",
   "execution_count": 10,
   "id": "acd5f673",
   "metadata": {},
   "outputs": [
    {
     "data": {
      "text/plain": [
       "<AxesSubplot:>"
      ]
     },
     "execution_count": 10,
     "metadata": {},
     "output_type": "execute_result"
    },
    {
     "data": {
      "image/png": "[encoded data removed]",
      "text/plain": [
       "<Figure size 432x288 with 1 Axes>"
      ]
     },
     "metadata": {
      "needs_background": "light"
     },
     "output_type": "display_data"
    }
   ],
   "source": [
    "csv['acceptability_5'].hist(bins=20)"
   ]
  },
  {
   "cell_type": "code",
   "execution_count": 11,
   "id": "3acdb95c",
   "metadata": {},
   "outputs": [],
   "source": [
    "# impartial beneficence (IB)\n",
    "columns_ib = ['1_oxford_1','1_oxford_2', '1_oxford_3', '1_oxford_4', '1_oxford_5']\n",
    "\n",
    "# instrumental harm (IH)\n",
    "columns_ih = ['1_oxford_6','1_oxford_7', '1_oxford_8', '1_oxford_9']\n",
    "\n",
    "IB = csv[columns_ib].apply(np.sum, axis=1)\n",
    "IH = csv[columns_ih].apply(np.sum, axis=1)\n",
    "\n",
    "zIB = stats.zscore(IB)\n",
    "zIH = stats.zscore(IH)\n",
    "\n",
    "u_ib = np.unique(list(zip(IB, zIB)), axis=0)\n",
    "u_ih = np.unique(list(zip(IH, zIH)), axis=0)\n",
    "\n",
    "min_zIB = np.min(zIB)\n",
    "max_zIB = np.max(zIB)\n",
    "min_zIH = np.min(zIH)\n",
    "max_zIH = np.max(zIH)\n",
    "\n",
    "x_scale = (0, 100)\n",
    "y_scale = (0, 100)"
   ]
  },
  {
   "cell_type": "code",
   "execution_count": 33,
   "id": "abb0c5ee",
   "metadata": {},
   "outputs": [],
   "source": [
    "# compute range of values for likert scale 7\n",
    "\n",
    "x_questions = 5\n",
    "x_values = np.arange(1 * x_questions, 7 * x_questions + 1, 1)\n",
    "\n",
    "y_questions = 4\n",
    "y_values = np.arange(1 * y_questions, 7 * y_questions + 1, 1)"
   ]
  },
  {
   "cell_type": "code",
   "execution_count": 34,
   "id": "736a7d7d",
   "metadata": {},
   "outputs": [
    {
     "data": {
      "text/plain": [
       "array([ 5,  6,  7,  8,  9, 10, 11, 12, 13, 14, 15, 16, 17, 18, 19, 20, 21,\n",
       "       22, 23, 24, 25, 26, 27, 28, 29, 30, 31, 32, 33, 34, 35])"
      ]
     },
     "execution_count": 34,
     "metadata": {},
     "output_type": "execute_result"
    }
   ],
   "source": [
    "x_values"
   ]
  },
  {
   "cell_type": "code",
   "execution_count": 38,
   "id": "366e21ed",
   "metadata": {},
   "outputs": [],
   "source": [
    "r = []\n",
    "l = np.zeros([36, 29, 2])\n",
    "for x in x_values:\n",
    "    for y in y_values:\n",
    "        _ib = u_ib[x - 5][1]\n",
    "        _ih = u_ih[y - 4][1]\n",
    "        i = np.interp(_ib, (min_zIB, max_zIB), x_scale)\n",
    "        j = np.interp(_ih, (min_zIH, max_zIH), y_scale)\n",
    "        l[x][y][0] = round(i, 2)\n",
    "        l[x][y][1] = round(j, 2)\n",
    "        r.append([x, y, round(i, 2), round(j, 2)])"
   ]
  },
  {
   "cell_type": "code",
   "execution_count": 39,
   "id": "965d070b",
   "metadata": {},
   "outputs": [
    {
     "data": {
      "text/html": [
       "<div>\n",
       "<style scoped>\n",
       "    .dataframe tbody tr th:only-of-type {\n",
       "        vertical-align: middle;\n",
       "    }\n",
       "\n",
       "    .dataframe tbody tr th {\n",
       "        vertical-align: top;\n",
       "    }\n",
       "\n",
       "    .dataframe thead th {\n",
       "        text-align: right;\n",
       "    }\n",
       "</style>\n",
       "<table border=\"1\" class=\"dataframe\">\n",
       "  <thead>\n",
       "    <tr style=\"text-align: right;\">\n",
       "      <th></th>\n",
       "      <th>ib</th>\n",
       "      <th>ih</th>\n",
       "      <th>x</th>\n",
       "      <th>y</th>\n",
       "    </tr>\n",
       "  </thead>\n",
       "  <tbody>\n",
       "    <tr>\n",
       "      <th>0</th>\n",
       "      <td>5</td>\n",
       "      <td>4</td>\n",
       "      <td>0.0</td>\n",
       "      <td>0.00</td>\n",
       "    </tr>\n",
       "    <tr>\n",
       "      <th>1</th>\n",
       "      <td>5</td>\n",
       "      <td>5</td>\n",
       "      <td>0.0</td>\n",
       "      <td>4.17</td>\n",
       "    </tr>\n",
       "    <tr>\n",
       "      <th>2</th>\n",
       "      <td>5</td>\n",
       "      <td>6</td>\n",
       "      <td>0.0</td>\n",
       "      <td>8.33</td>\n",
       "    </tr>\n",
       "    <tr>\n",
       "      <th>3</th>\n",
       "      <td>5</td>\n",
       "      <td>7</td>\n",
       "      <td>0.0</td>\n",
       "      <td>12.50</td>\n",
       "    </tr>\n",
       "    <tr>\n",
       "      <th>4</th>\n",
       "      <td>5</td>\n",
       "      <td>8</td>\n",
       "      <td>0.0</td>\n",
       "      <td>16.67</td>\n",
       "    </tr>\n",
       "    <tr>\n",
       "      <th>...</th>\n",
       "      <td>...</td>\n",
       "      <td>...</td>\n",
       "      <td>...</td>\n",
       "      <td>...</td>\n",
       "    </tr>\n",
       "    <tr>\n",
       "      <th>770</th>\n",
       "      <td>35</td>\n",
       "      <td>24</td>\n",
       "      <td>100.0</td>\n",
       "      <td>83.33</td>\n",
       "    </tr>\n",
       "    <tr>\n",
       "      <th>771</th>\n",
       "      <td>35</td>\n",
       "      <td>25</td>\n",
       "      <td>100.0</td>\n",
       "      <td>87.50</td>\n",
       "    </tr>\n",
       "    <tr>\n",
       "      <th>772</th>\n",
       "      <td>35</td>\n",
       "      <td>26</td>\n",
       "      <td>100.0</td>\n",
       "      <td>91.67</td>\n",
       "    </tr>\n",
       "    <tr>\n",
       "      <th>773</th>\n",
       "      <td>35</td>\n",
       "      <td>27</td>\n",
       "      <td>100.0</td>\n",
       "      <td>95.83</td>\n",
       "    </tr>\n",
       "    <tr>\n",
       "      <th>774</th>\n",
       "      <td>35</td>\n",
       "      <td>28</td>\n",
       "      <td>100.0</td>\n",
       "      <td>100.00</td>\n",
       "    </tr>\n",
       "  </tbody>\n",
       "</table>\n",
       "<p>775 rows × 4 columns</p>\n",
       "</div>"
      ],
      "text/plain": [
       "     ib  ih      x       y\n",
       "0     5   4    0.0    0.00\n",
       "1     5   5    0.0    4.17\n",
       "2     5   6    0.0    8.33\n",
       "3     5   7    0.0   12.50\n",
       "4     5   8    0.0   16.67\n",
       "..   ..  ..    ...     ...\n",
       "770  35  24  100.0   83.33\n",
       "771  35  25  100.0   87.50\n",
       "772  35  26  100.0   91.67\n",
       "773  35  27  100.0   95.83\n",
       "774  35  28  100.0  100.00\n",
       "\n",
       "[775 rows x 4 columns]"
      ]
     },
     "execution_count": 39,
     "metadata": {},
     "output_type": "execute_result"
    }
   ],
   "source": [
    "scatter = pd.DataFrame(r, columns=['ib', 'ih', 'x', 'y'])\n",
    "scatter"
   ]
  },
  {
   "cell_type": "code",
   "execution_count": 15,
   "id": "1853f04b",
   "metadata": {},
   "outputs": [],
   "source": [
    "scatter.to_csv('./out/scatter.csv')"
   ]
  },
  {
   "cell_type": "code",
   "execution_count": 16,
   "id": "16ccbc78",
   "metadata": {},
   "outputs": [],
   "source": [
    "distress = pd.DataFrame({\n",
    "    '6': csv['distress_6'],\n",
    "    '7': csv['distress_7'],\n",
    "}).replace(-999, 0)\n",
    "distress = distress.sum(axis=1)\n",
    "\n",
    "confidence = pd.DataFrame({\n",
    "    '6': csv['confidence_6'],\n",
    "    '7': csv['confidence_7'],\n",
    "}).replace(-999, 0)\n",
    "confidence = confidence.sum(axis=1)"
   ]
  },
  {
   "cell_type": "code",
   "execution_count": 17,
   "id": "0a4a7429",
   "metadata": {},
   "outputs": [
    {
     "data": {
      "text/html": [
       "<div>\n",
       "<style scoped>\n",
       "    .dataframe tbody tr th:only-of-type {\n",
       "        vertical-align: middle;\n",
       "    }\n",
       "\n",
       "    .dataframe tbody tr th {\n",
       "        vertical-align: top;\n",
       "    }\n",
       "\n",
       "    .dataframe thead th {\n",
       "        text-align: right;\n",
       "    }\n",
       "</style>\n",
       "<table border=\"1\" class=\"dataframe\">\n",
       "  <thead>\n",
       "    <tr style=\"text-align: right;\">\n",
       "      <th></th>\n",
       "      <th>zIB</th>\n",
       "      <th>zIH</th>\n",
       "      <th>impersonal</th>\n",
       "      <th>personal</th>\n",
       "      <th>confidence</th>\n",
       "      <th>distress</th>\n",
       "    </tr>\n",
       "  </thead>\n",
       "  <tbody>\n",
       "    <tr>\n",
       "      <th>0</th>\n",
       "      <td>-1.164010</td>\n",
       "      <td>-0.872976</td>\n",
       "      <td>NaN</td>\n",
       "      <td>0.0</td>\n",
       "      <td>100</td>\n",
       "      <td>100</td>\n",
       "    </tr>\n",
       "    <tr>\n",
       "      <th>1</th>\n",
       "      <td>-0.048302</td>\n",
       "      <td>0.639784</td>\n",
       "      <td>69.0</td>\n",
       "      <td>NaN</td>\n",
       "      <td>66</td>\n",
       "      <td>100</td>\n",
       "    </tr>\n",
       "    <tr>\n",
       "      <th>2</th>\n",
       "      <td>0.111085</td>\n",
       "      <td>0.828879</td>\n",
       "      <td>NaN</td>\n",
       "      <td>74.0</td>\n",
       "      <td>75</td>\n",
       "      <td>98</td>\n",
       "    </tr>\n",
       "    <tr>\n",
       "      <th>3</th>\n",
       "      <td>1.226793</td>\n",
       "      <td>-0.494786</td>\n",
       "      <td>NaN</td>\n",
       "      <td>0.0</td>\n",
       "      <td>100</td>\n",
       "      <td>100</td>\n",
       "    </tr>\n",
       "    <tr>\n",
       "      <th>4</th>\n",
       "      <td>-2.439105</td>\n",
       "      <td>-0.683881</td>\n",
       "      <td>NaN</td>\n",
       "      <td>50.0</td>\n",
       "      <td>0</td>\n",
       "      <td>100</td>\n",
       "    </tr>\n",
       "    <tr>\n",
       "      <th>...</th>\n",
       "      <td>...</td>\n",
       "      <td>...</td>\n",
       "      <td>...</td>\n",
       "      <td>...</td>\n",
       "      <td>...</td>\n",
       "      <td>...</td>\n",
       "    </tr>\n",
       "    <tr>\n",
       "      <th>15415</th>\n",
       "      <td>-0.367076</td>\n",
       "      <td>0.261594</td>\n",
       "      <td>NaN</td>\n",
       "      <td>30.0</td>\n",
       "      <td>57</td>\n",
       "      <td>96</td>\n",
       "    </tr>\n",
       "    <tr>\n",
       "      <th>15416</th>\n",
       "      <td>-1.164010</td>\n",
       "      <td>-0.494786</td>\n",
       "      <td>NaN</td>\n",
       "      <td>8.0</td>\n",
       "      <td>100</td>\n",
       "      <td>50</td>\n",
       "    </tr>\n",
       "    <tr>\n",
       "      <th>15417</th>\n",
       "      <td>0.908019</td>\n",
       "      <td>-0.305691</td>\n",
       "      <td>NaN</td>\n",
       "      <td>100.0</td>\n",
       "      <td>62</td>\n",
       "      <td>97</td>\n",
       "    </tr>\n",
       "    <tr>\n",
       "      <th>15418</th>\n",
       "      <td>1.864341</td>\n",
       "      <td>2.908923</td>\n",
       "      <td>NaN</td>\n",
       "      <td>100.0</td>\n",
       "      <td>100</td>\n",
       "      <td>100</td>\n",
       "    </tr>\n",
       "    <tr>\n",
       "      <th>15419</th>\n",
       "      <td>0.270472</td>\n",
       "      <td>0.639784</td>\n",
       "      <td>100.0</td>\n",
       "      <td>NaN</td>\n",
       "      <td>51</td>\n",
       "      <td>100</td>\n",
       "    </tr>\n",
       "  </tbody>\n",
       "</table>\n",
       "<p>15420 rows × 6 columns</p>\n",
       "</div>"
      ],
      "text/plain": [
       "            zIB       zIH  impersonal  personal  confidence  distress\n",
       "0     -1.164010 -0.872976         NaN       0.0         100       100\n",
       "1     -0.048302  0.639784        69.0       NaN          66       100\n",
       "2      0.111085  0.828879         NaN      74.0          75        98\n",
       "3      1.226793 -0.494786         NaN       0.0         100       100\n",
       "4     -2.439105 -0.683881         NaN      50.0           0       100\n",
       "...         ...       ...         ...       ...         ...       ...\n",
       "15415 -0.367076  0.261594         NaN      30.0          57        96\n",
       "15416 -1.164010 -0.494786         NaN       8.0         100        50\n",
       "15417  0.908019 -0.305691         NaN     100.0          62        97\n",
       "15418  1.864341  2.908923         NaN     100.0         100       100\n",
       "15419  0.270472  0.639784       100.0       NaN          51       100\n",
       "\n",
       "[15420 rows x 6 columns]"
      ]
     },
     "execution_count": 17,
     "metadata": {},
     "output_type": "execute_result"
    }
   ],
   "source": [
    "df = pd.DataFrame({\n",
    "    'zIB': zIB,\n",
    "    'zIH': zIH,\n",
    "    'impersonal': csv['acceptability_6'],\n",
    "    'personal': csv['acceptability_7'],\n",
    "    'confidence': confidence,\n",
    "    'distress': distress,\n",
    "})\n",
    "df = df.replace(-999, np.nan)\n",
    "df"
   ]
  },
  {
   "cell_type": "code",
   "execution_count": 18,
   "id": "0fe9d800",
   "metadata": {},
   "outputs": [],
   "source": [
    "bin_size = 0.5\n",
    "bins = np.arange(-2, 2 + bin_size, bin_size)"
   ]
  },
  {
   "cell_type": "code",
   "execution_count": 19,
   "id": "d48390ff",
   "metadata": {
    "scrolled": false
   },
   "outputs": [],
   "source": [
    "ma_imp = np.zeros([len(bins) - 1, len(bins) - 1])\n",
    "ma_per = np.zeros([len(bins) - 1, len(bins) - 1])\n",
    "\n",
    "ma_dis = np.zeros([len(bins) - 1, len(bins) - 1])\n",
    "ma_conf = np.zeros([len(bins) - 1, len(bins) - 1])"
   ]
  },
  {
   "cell_type": "code",
   "execution_count": 20,
   "id": "7266f4d1",
   "metadata": {
    "scrolled": true
   },
   "outputs": [],
   "source": [
    "for i in range(len(bins) - 1):\n",
    "    for j in range(len(bins) - 1):\n",
    "        data_in_bin = df.loc[\n",
    "            (df['zIH'] >= bins[i]) & (df['zIH'] < bins[i + 1]) &\n",
    "            (df['zIB'] >= bins[j]) & (df['zIB'] < bins[j + 1]) \n",
    "        ]\n",
    "        ma_imp[i][j] = round(np.nanmean(data_in_bin['impersonal']), 2)\n",
    "        ma_per[i][j] = round(np.nanmean(data_in_bin['personal']), 2)\n",
    "        ma_dis[i][j] = round(np.nanmean(data_in_bin['distress']), 2)\n",
    "        ma_conf[i][j] = round(np.nanmean(data_in_bin['confidence']), 2)"
   ]
  },
  {
   "cell_type": "code",
   "execution_count": 21,
   "id": "04d52027",
   "metadata": {},
   "outputs": [
    {
     "data": {
      "text/plain": [
       "array([[51.09, 67.48, 43.77, 59.85, 60.61, 48.21, 63.28, 67.48],\n",
       "       [64.71, 54.78, 62.08, 58.82, 59.83, 58.96, 58.94, 72.06],\n",
       "       [58.09, 63.73, 62.48, 63.25, 68.47, 63.96, 67.35, 69.97],\n",
       "       [70.59, 65.29, 66.62, 68.91, 74.4 , 70.24, 71.49, 72.44],\n",
       "       [65.36, 69.13, 69.23, 69.75, 74.64, 74.98, 74.75, 84.55],\n",
       "       [69.83, 71.14, 75.27, 74.63, 78.9 , 75.02, 77.84, 85.11],\n",
       "       [85.29, 82.39, 77.45, 80.97, 78.29, 79.29, 86.19, 81.61],\n",
       "       [79.55, 87.49, 87.57, 82.37, 84.5 , 87.53, 84.61, 86.48]])"
      ]
     },
     "execution_count": 21,
     "metadata": {},
     "output_type": "execute_result"
    }
   ],
   "source": [
    "ma_imp"
   ]
  },
  {
   "cell_type": "code",
   "execution_count": 22,
   "id": "8b150584",
   "metadata": {},
   "outputs": [],
   "source": [
    "cm = LinearSegmentedColormap.from_list('custom', [\n",
    " '#ee5d52', '#F28178', '#F5A49D', '#F9C6C3', '#FCE5E3',\n",
    " \"#FFFFFF\", \"#E9F5FC\", \"#D3EBF8\", \"#AFDBF3\", \"#8CCBED\", \"#68BBE8\"\n",
    "], N=11)"
   ]
  },
  {
   "cell_type": "code",
   "execution_count": 23,
   "id": "851a386c",
   "metadata": {},
   "outputs": [],
   "source": [
    "colors = np.array([\n",
    "    '#E34A33',\n",
    "    '#E4503A',\n",
    "    '#E55640',\n",
    "    '#E65C47',\n",
    "    '#E7614D',\n",
    "    '#E86754',\n",
    "    '#E86D5A',\n",
    "    '#E97361',\n",
    "    '#EA7968',\n",
    "    '#EB7F6E',\n",
    "    '#EC8475',\n",
    "    '#ED8A7B',\n",
    "    '#EE9082',\n",
    "    '#EF9689',\n",
    "    '#F09C8F',\n",
    "    '#F1A296',\n",
    "    '#F1A79C',\n",
    "    '#F2ADA3',\n",
    "    '#F3B3A9',\n",
    "    '#F4B9B0',\n",
    "    '#F5BFB7',\n",
    "    '#F6C5BD',\n",
    "    '#F7CAC4',\n",
    "    '#F8D0CA',\n",
    "    '#F9D6D1',\n",
    "    '#FADCD8',\n",
    "    '#FAE2DE',\n",
    "    '#FBE8E5',\n",
    "    '#FCEDEB',\n",
    "    '#FDF3F2',\n",
    "    '#FEF9F8',\n",
    "    '#FFFFFF',\n",
    "    '#F8FCFA',\n",
    "    '#F2F9F5',\n",
    "    '#EBF6F0',\n",
    "    '#E5F3EB',\n",
    "    '#DEF0E6',\n",
    "    '#D7EEE1',\n",
    "    '#D1EBDC',\n",
    "    '#CAE8D7',\n",
    "    '#C4E5D2',\n",
    "    '#BDE2CD',\n",
    "    '#B6DFC8',\n",
    "    '#B0DCC3',\n",
    "    '#A9D9BE',\n",
    "    '#A3D6B9',\n",
    "    '#9CD3B4',\n",
    "    '#95D1AF',\n",
    "    '#8FCEAA',\n",
    "    '#88CBA5',\n",
    "    '#82C8A0',\n",
    "    '#7BC59B',\n",
    "    '#75C296',\n",
    "    '#6EBF91',\n",
    "    '#67BC8C',\n",
    "    '#61B987',\n",
    "    '#5AB682',\n",
    "    '#54B37D',\n",
    "    '#4DB178',\n",
    "    '#46AE73',\n",
    "    '#40AB6E',\n",
    "    '#39A869',\n",
    "    '#33A564',\n",
    "    '#2ca25f'\n",
    "])"
   ]
  },
  {
   "cell_type": "code",
   "execution_count": 24,
   "id": "52977278",
   "metadata": {},
   "outputs": [],
   "source": [
    "cm = LinearSegmentedColormap.from_list('custom', colors, N=len(colors))"
   ]
  },
  {
   "cell_type": "code",
   "execution_count": 25,
   "id": "0185b768",
   "metadata": {},
   "outputs": [],
   "source": [
    "colors = [\n",
    "    '#14273C',\n",
    "    '#203E60',\n",
    "    '#2B5582',\n",
    "    '#376BA4',\n",
    "    '#4782C2',\n",
    "    '#6A99CD',\n",
    "    '#8CB1D9',\n",
    "    '#AFC8E4',\n",
    "    '#D1E0F0',\n",
    "    '#E8EFF7',\n",
    "]\n",
    "cm = LinearSegmentedColormap.from_list('custom', np.flip(colors), N=len(colors))"
   ]
  },
  {
   "cell_type": "code",
   "execution_count": 26,
   "id": "6612fa8e",
   "metadata": {},
   "outputs": [],
   "source": [
    "def heatmap(data, vmin=0, vmax=100, title=''):\n",
    "    fig, ax = plt.subplots()\n",
    "    im = ax.imshow(data, cmap=cm, vmin=vmin, vmax=vmax)\n",
    "    ax.set_xlim(-0.5, 7.5)\n",
    "    ax.set_ylim(-0.5, 7.5)\n",
    "    ax.set_title(title)\n",
    "    plt.show()"
   ]
  },
  {
   "cell_type": "code",
   "execution_count": 27,
   "id": "aee1b714",
   "metadata": {},
   "outputs": [
    {
     "data": {
      "image/png": "[encoded data removed]",
      "text/plain": [
       "<Figure size 432x288 with 1 Axes>"
      ]
     },
     "metadata": {
      "needs_background": "light"
     },
     "output_type": "display_data"
    }
   ],
   "source": [
    "heatmap(ma_imp)"
   ]
  },
  {
   "cell_type": "code",
   "execution_count": 28,
   "id": "eb8f1b1d",
   "metadata": {},
   "outputs": [
    {
     "data": {
      "image/png": "[encoded data removed]",
      "text/plain": [
       "<Figure size 432x288 with 1 Axes>"
      ]
     },
     "metadata": {
      "needs_background": "light"
     },
     "output_type": "display_data"
    }
   ],
   "source": [
    "heatmap(ma_per)"
   ]
  },
  {
   "cell_type": "code",
   "execution_count": 29,
   "id": "aa1c86ad",
   "metadata": {},
   "outputs": [
    {
     "data": {
      "image/png": "[encoded data removed]",
      "text/plain": [
       "<Figure size 432x288 with 1 Axes>"
      ]
     },
     "metadata": {
      "needs_background": "light"
     },
     "output_type": "display_data"
    }
   ],
   "source": [
    "heatmap(ma_dis, vmin=80, vmax=100)"
   ]
  },
  {
   "cell_type": "code",
   "execution_count": 30,
   "id": "4514a01f",
   "metadata": {},
   "outputs": [
    {
     "data": {
      "image/png": "[encoded data removed]",
      "text/plain": [
       "<Figure size 432x288 with 1 Axes>"
      ]
     },
     "metadata": {
      "needs_background": "light"
     },
     "output_type": "display_data"
    }
   ],
   "source": [
    "heatmap(ma_conf, vmin=60, vmax=80)"
   ]
  },
  {
   "cell_type": "code",
   "execution_count": 31,
   "id": "609c824c",
   "metadata": {},
   "outputs": [],
   "source": [
    "pd.DataFrame(ma_imp).to_csv('./out/impersonal_matrix.csv')\n",
    "pd.DataFrame(ma_per).to_csv('./out/personal_matrix.csv')\n",
    "pd.DataFrame(ma_dis).to_csv('./out/distress_matrix.csv')\n",
    "pd.DataFrame(ma_conf).to_csv('./out/confidence_matrix.csv')"
   ]
  },
  {
   "cell_type": "code",
   "execution_count": null,
   "id": "a3b7c375",
   "metadata": {},
   "outputs": [],
   "source": []
  }
 ],
 "metadata": {
  "kernelspec": {
   "display_name": "Python 3 (ipykernel)",
   "language": "python",
   "name": "python3"
  },
  "language_info": {
   "codemirror_mode": {
    "name": "ipython",
    "version": 3
   },
   "file_extension": ".py",
   "mimetype": "text/x-python",
   "name": "python",
   "nbconvert_exporter": "python",
   "pygments_lexer": "ipython3",
   "version": "3.8.3"
  }
 },
 "nbformat": 4,
 "nbformat_minor": 5
}
